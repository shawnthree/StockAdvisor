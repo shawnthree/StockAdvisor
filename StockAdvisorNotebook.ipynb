{
 "cells": [
  {
   "cell_type": "code",
   "execution_count": 49,
   "id": "550d29fc-0842-416e-9be3-4672ff12c27b",
   "metadata": {},
   "outputs": [
    {
     "name": "stdout",
     "output_type": "stream",
     "text": [
      "Requirement already satisfied: yfinance in c:\\users\\saika\\appdata\\roaming\\jupyterlab-desktop\\jlab_server\\lib\\site-packages (0.1.70)\n",
      "Requirement already satisfied: requests>=2.26 in c:\\users\\saika\\appdata\\roaming\\jupyterlab-desktop\\jlab_server\\lib\\site-packages (from yfinance) (2.27.1)\n",
      "Requirement already satisfied: numpy>=1.15 in c:\\users\\saika\\appdata\\roaming\\jupyterlab-desktop\\jlab_server\\lib\\site-packages (from yfinance) (1.22.3)\n",
      "Requirement already satisfied: pandas>=0.24.0 in c:\\users\\saika\\appdata\\roaming\\jupyterlab-desktop\\jlab_server\\lib\\site-packages (from yfinance) (1.4.2)\n",
      "Requirement already satisfied: lxml>=4.5.1 in c:\\users\\saika\\appdata\\roaming\\jupyterlab-desktop\\jlab_server\\lib\\site-packages (from yfinance) (4.8.0)\n",
      "Requirement already satisfied: multitasking>=0.0.7 in c:\\users\\saika\\appdata\\roaming\\jupyterlab-desktop\\jlab_server\\lib\\site-packages (from yfinance) (0.0.10)\n",
      "Requirement already satisfied: pytz>=2020.1 in c:\\users\\saika\\appdata\\roaming\\jupyterlab-desktop\\jlab_server\\lib\\site-packages (from pandas>=0.24.0->yfinance) (2022.1)\n",
      "Requirement already satisfied: python-dateutil>=2.8.1 in c:\\users\\saika\\appdata\\roaming\\jupyterlab-desktop\\jlab_server\\lib\\site-packages (from pandas>=0.24.0->yfinance) (2.8.2)\n",
      "Requirement already satisfied: charset-normalizer~=2.0.0 in c:\\users\\saika\\appdata\\roaming\\jupyterlab-desktop\\jlab_server\\lib\\site-packages (from requests>=2.26->yfinance) (2.0.12)\n",
      "Requirement already satisfied: certifi>=2017.4.17 in c:\\users\\saika\\appdata\\roaming\\jupyterlab-desktop\\jlab_server\\lib\\site-packages (from requests>=2.26->yfinance) (2021.10.8)\n",
      "Requirement already satisfied: urllib3<1.27,>=1.21.1 in c:\\users\\saika\\appdata\\roaming\\jupyterlab-desktop\\jlab_server\\lib\\site-packages (from requests>=2.26->yfinance) (1.26.9)\n",
      "Requirement already satisfied: idna<4,>=2.5 in c:\\users\\saika\\appdata\\roaming\\jupyterlab-desktop\\jlab_server\\lib\\site-packages (from requests>=2.26->yfinance) (3.3)\n",
      "Requirement already satisfied: six>=1.5 in c:\\users\\saika\\appdata\\roaming\\jupyterlab-desktop\\jlab_server\\lib\\site-packages (from python-dateutil>=2.8.1->pandas>=0.24.0->yfinance) (1.16.0)\n",
      "Requirement already satisfied: matplotlib in c:\\users\\saika\\appdata\\roaming\\jupyterlab-desktop\\jlab_server\\lib\\site-packages (3.5.1)\n",
      "Requirement already satisfied: python-dateutil>=2.7 in c:\\users\\saika\\appdata\\roaming\\jupyterlab-desktop\\jlab_server\\lib\\site-packages (from matplotlib) (2.8.2)\n",
      "Requirement already satisfied: packaging>=20.0 in c:\\users\\saika\\appdata\\roaming\\jupyterlab-desktop\\jlab_server\\lib\\site-packages (from matplotlib) (21.3)\n",
      "Requirement already satisfied: pillow>=6.2.0 in c:\\users\\saika\\appdata\\roaming\\jupyterlab-desktop\\jlab_server\\lib\\site-packages (from matplotlib) (9.1.0)\n",
      "Requirement already satisfied: kiwisolver>=1.0.1 in c:\\users\\saika\\appdata\\roaming\\jupyterlab-desktop\\jlab_server\\lib\\site-packages (from matplotlib) (1.4.2)\n",
      "Requirement already satisfied: cycler>=0.10 in c:\\users\\saika\\appdata\\roaming\\jupyterlab-desktop\\jlab_server\\lib\\site-packages (from matplotlib) (0.11.0)\n",
      "Requirement already satisfied: numpy>=1.17 in c:\\users\\saika\\appdata\\roaming\\jupyterlab-desktop\\jlab_server\\lib\\site-packages (from matplotlib) (1.22.3)\n",
      "Requirement already satisfied: fonttools>=4.22.0 in c:\\users\\saika\\appdata\\roaming\\jupyterlab-desktop\\jlab_server\\lib\\site-packages (from matplotlib) (4.33.0)\n",
      "Requirement already satisfied: pyparsing>=2.2.1 in c:\\users\\saika\\appdata\\roaming\\jupyterlab-desktop\\jlab_server\\lib\\site-packages (from matplotlib) (3.0.8)\n",
      "Requirement already satisfied: six>=1.5 in c:\\users\\saika\\appdata\\roaming\\jupyterlab-desktop\\jlab_server\\lib\\site-packages (from python-dateutil>=2.7->matplotlib) (1.16.0)\n",
      "Requirement already satisfied: sklearn in c:\\users\\saika\\appdata\\roaming\\jupyterlab-desktop\\jlab_server\\lib\\site-packages (0.0)\n",
      "Requirement already satisfied: scikit-learn in c:\\users\\saika\\appdata\\roaming\\jupyterlab-desktop\\jlab_server\\lib\\site-packages (from sklearn) (1.0.2)\n",
      "Requirement already satisfied: joblib>=0.11 in c:\\users\\saika\\appdata\\roaming\\jupyterlab-desktop\\jlab_server\\lib\\site-packages (from scikit-learn->sklearn) (1.1.0)\n",
      "Requirement already satisfied: scipy>=1.1.0 in c:\\users\\saika\\appdata\\roaming\\jupyterlab-desktop\\jlab_server\\lib\\site-packages (from scikit-learn->sklearn) (1.8.0)\n",
      "Requirement already satisfied: numpy>=1.14.6 in c:\\users\\saika\\appdata\\roaming\\jupyterlab-desktop\\jlab_server\\lib\\site-packages (from scikit-learn->sklearn) (1.22.3)\n",
      "Requirement already satisfied: threadpoolctl>=2.0.0 in c:\\users\\saika\\appdata\\roaming\\jupyterlab-desktop\\jlab_server\\lib\\site-packages (from scikit-learn->sklearn) (3.1.0)\n",
      "Requirement already satisfied: keras in c:\\users\\saika\\appdata\\roaming\\jupyterlab-desktop\\jlab_server\\lib\\site-packages (2.8.0)\n",
      "Collecting tensorflow\n",
      "  Downloading tensorflow-2.8.0-cp38-cp38-win_amd64.whl (438.0 MB)\n",
      "     -------------------------------------- 438.0/438.0 MB 5.0 MB/s eta 0:00:00\n",
      "Collecting h5py>=2.9.0\n",
      "  Downloading h5py-3.6.0-cp38-cp38-win_amd64.whl (2.8 MB)\n",
      "     ---------------------------------------- 2.8/2.8 MB 59.3 MB/s eta 0:00:00\n",
      "Requirement already satisfied: six>=1.12.0 in c:\\users\\saika\\appdata\\roaming\\jupyterlab-desktop\\jlab_server\\lib\\site-packages (from tensorflow) (1.16.0)\n",
      "Collecting tensorflow-io-gcs-filesystem>=0.23.1\n",
      "  Downloading tensorflow_io_gcs_filesystem-0.25.0-cp38-cp38-win_amd64.whl (1.5 MB)\n",
      "     ---------------------------------------- 1.5/1.5 MB 22.9 MB/s eta 0:00:00\n",
      "Collecting grpcio<2.0,>=1.24.3\n",
      "  Downloading grpcio-1.44.0-cp38-cp38-win_amd64.whl (3.4 MB)\n",
      "     ---------------------------------------- 3.4/3.4 MB 54.4 MB/s eta 0:00:00\n",
      "Collecting astunparse>=1.6.0\n",
      "  Downloading astunparse-1.6.3-py2.py3-none-any.whl (12 kB)\n",
      "Requirement already satisfied: keras<2.9,>=2.8.0rc0 in c:\\users\\saika\\appdata\\roaming\\jupyterlab-desktop\\jlab_server\\lib\\site-packages (from tensorflow) (2.8.0)\n",
      "Collecting libclang>=9.0.1\n",
      "  Downloading libclang-14.0.1-py2.py3-none-win_amd64.whl (14.2 MB)\n",
      "     --------------------------------------- 14.2/14.2 MB 59.5 MB/s eta 0:00:00\n",
      "Collecting wrapt>=1.11.0\n",
      "  Downloading wrapt-1.14.0-cp38-cp38-win_amd64.whl (36 kB)\n",
      "Collecting protobuf>=3.9.2\n",
      "  Downloading protobuf-3.20.1-cp38-cp38-win_amd64.whl (904 kB)\n",
      "     ------------------------------------- 904.4/904.4 KB 59.6 MB/s eta 0:00:00\n",
      "Requirement already satisfied: setuptools in c:\\users\\saika\\appdata\\roaming\\jupyterlab-desktop\\jlab_server\\lib\\site-packages (from tensorflow) (62.1.0)\n",
      "Collecting google-pasta>=0.1.1\n",
      "  Downloading google_pasta-0.2.0-py3-none-any.whl (57 kB)\n",
      "     ---------------------------------------- 57.5/57.5 KB ? eta 0:00:00\n",
      "Collecting keras-preprocessing>=1.1.1\n",
      "  Downloading Keras_Preprocessing-1.1.2-py2.py3-none-any.whl (42 kB)\n",
      "     ---------------------------------------- 42.6/42.6 KB ? eta 0:00:00\n",
      "Collecting opt-einsum>=2.3.2\n",
      "  Downloading opt_einsum-3.3.0-py3-none-any.whl (65 kB)\n",
      "     ---------------------------------------- 65.5/65.5 KB 3.7 MB/s eta 0:00:00\n",
      "Collecting termcolor>=1.1.0\n",
      "  Downloading termcolor-1.1.0.tar.gz (3.9 kB)\n",
      "  Preparing metadata (setup.py): started\n",
      "  Preparing metadata (setup.py): finished with status 'done'\n",
      "Collecting typing-extensions>=3.6.6\n",
      "  Downloading typing_extensions-4.2.0-py3-none-any.whl (24 kB)\n",
      "Collecting tensorboard<2.9,>=2.8\n",
      "  Downloading tensorboard-2.8.0-py3-none-any.whl (5.8 MB)\n",
      "     ---------------------------------------- 5.8/5.8 MB 40.9 MB/s eta 0:00:00\n",
      "Collecting flatbuffers>=1.12\n",
      "  Downloading flatbuffers-2.0-py2.py3-none-any.whl (26 kB)\n",
      "Collecting gast>=0.2.1\n",
      "  Downloading gast-0.5.3-py3-none-any.whl (19 kB)\n",
      "Requirement already satisfied: numpy>=1.20 in c:\\users\\saika\\appdata\\roaming\\jupyterlab-desktop\\jlab_server\\lib\\site-packages (from tensorflow) (1.22.3)\n",
      "Collecting absl-py>=0.4.0\n",
      "  Downloading absl_py-1.0.0-py3-none-any.whl (126 kB)\n",
      "     ---------------------------------------- 126.7/126.7 KB ? eta 0:00:00\n",
      "Collecting tf-estimator-nightly==2.8.0.dev2021122109\n",
      "  Downloading tf_estimator_nightly-2.8.0.dev2021122109-py2.py3-none-any.whl (462 kB)\n",
      "     ---------------------------------------- 462.5/462.5 KB ? eta 0:00:00\n",
      "Requirement already satisfied: wheel<1.0,>=0.23.0 in c:\\users\\saika\\appdata\\roaming\\jupyterlab-desktop\\jlab_server\\lib\\site-packages (from astunparse>=1.6.0->tensorflow) (0.37.1)\n",
      "Collecting werkzeug>=0.11.15\n",
      "  Downloading Werkzeug-2.1.2-py3-none-any.whl (224 kB)\n",
      "     ------------------------------------- 224.9/224.9 KB 13.4 MB/s eta 0:00:00\n",
      "Collecting tensorboard-data-server<0.7.0,>=0.6.0\n",
      "  Downloading tensorboard_data_server-0.6.1-py3-none-any.whl (2.4 kB)\n",
      "Collecting markdown>=2.6.8\n",
      "  Downloading Markdown-3.3.6-py3-none-any.whl (97 kB)\n",
      "     ---------------------------------------- 97.8/97.8 KB ? eta 0:00:00\n",
      "Collecting tensorboard-plugin-wit>=1.6.0\n",
      "  Downloading tensorboard_plugin_wit-1.8.1-py3-none-any.whl (781 kB)\n",
      "     ------------------------------------- 781.3/781.3 KB 48.2 MB/s eta 0:00:00\n",
      "Requirement already satisfied: requests<3,>=2.21.0 in c:\\users\\saika\\appdata\\roaming\\jupyterlab-desktop\\jlab_server\\lib\\site-packages (from tensorboard<2.9,>=2.8->tensorflow) (2.27.1)\n",
      "Collecting google-auth<3,>=1.6.3\n",
      "  Downloading google_auth-2.6.6-py2.py3-none-any.whl (156 kB)\n",
      "     ---------------------------------------- 156.7/156.7 KB ? eta 0:00:00\n",
      "Collecting google-auth-oauthlib<0.5,>=0.4.1\n",
      "  Downloading google_auth_oauthlib-0.4.6-py2.py3-none-any.whl (18 kB)\n",
      "Collecting rsa<5,>=3.1.4\n",
      "  Downloading rsa-4.8-py3-none-any.whl (39 kB)\n",
      "Collecting cachetools<6.0,>=2.0.0\n",
      "  Downloading cachetools-5.0.0-py3-none-any.whl (9.1 kB)\n",
      "Collecting pyasn1-modules>=0.2.1\n",
      "  Downloading pyasn1_modules-0.2.8-py2.py3-none-any.whl (155 kB)\n",
      "     -------------------------------------- 155.3/155.3 KB 9.1 MB/s eta 0:00:00\n",
      "Collecting requests-oauthlib>=0.7.0\n",
      "  Downloading requests_oauthlib-1.3.1-py2.py3-none-any.whl (23 kB)\n",
      "Requirement already satisfied: importlib-metadata>=4.4 in c:\\users\\saika\\appdata\\roaming\\jupyterlab-desktop\\jlab_server\\lib\\site-packages (from markdown>=2.6.8->tensorboard<2.9,>=2.8->tensorflow) (4.11.3)\n",
      "Requirement already satisfied: urllib3<1.27,>=1.21.1 in c:\\users\\saika\\appdata\\roaming\\jupyterlab-desktop\\jlab_server\\lib\\site-packages (from requests<3,>=2.21.0->tensorboard<2.9,>=2.8->tensorflow) (1.26.9)\n",
      "Requirement already satisfied: idna<4,>=2.5 in c:\\users\\saika\\appdata\\roaming\\jupyterlab-desktop\\jlab_server\\lib\\site-packages (from requests<3,>=2.21.0->tensorboard<2.9,>=2.8->tensorflow) (3.3)\n",
      "Requirement already satisfied: charset-normalizer~=2.0.0 in c:\\users\\saika\\appdata\\roaming\\jupyterlab-desktop\\jlab_server\\lib\\site-packages (from requests<3,>=2.21.0->tensorboard<2.9,>=2.8->tensorflow) (2.0.12)\n",
      "Requirement already satisfied: certifi>=2017.4.17 in c:\\users\\saika\\appdata\\roaming\\jupyterlab-desktop\\jlab_server\\lib\\site-packages (from requests<3,>=2.21.0->tensorboard<2.9,>=2.8->tensorflow) (2021.10.8)\n",
      "Requirement already satisfied: zipp>=0.5 in c:\\users\\saika\\appdata\\roaming\\jupyterlab-desktop\\jlab_server\\lib\\site-packages (from importlib-metadata>=4.4->markdown>=2.6.8->tensorboard<2.9,>=2.8->tensorflow) (3.8.0)\n",
      "Collecting pyasn1<0.5.0,>=0.4.6\n",
      "  Downloading pyasn1-0.4.8-py2.py3-none-any.whl (77 kB)\n",
      "     ---------------------------------------- 77.1/77.1 KB ? eta 0:00:00\n",
      "Collecting oauthlib>=3.0.0\n",
      "  Downloading oauthlib-3.2.0-py3-none-any.whl (151 kB)\n",
      "     ---------------------------------------- 151.5/151.5 KB ? eta 0:00:00\n",
      "Building wheels for collected packages: termcolor\n",
      "  Building wheel for termcolor (setup.py): started\n",
      "  Building wheel for termcolor (setup.py): finished with status 'done'\n",
      "  Created wheel for termcolor: filename=termcolor-1.1.0-py3-none-any.whl size=4848 sha256=df2090bbbf5ade1236dee8f7a879e7c8f533cd0925b94519a4d6854ebc2c054b\n",
      "  Stored in directory: c:\\users\\saika\\appdata\\local\\pip\\cache\\wheels\\a0\\16\\9c\\5473df82468f958445479c59e784896fa24f4a5fc024b0f501\n",
      "Successfully built termcolor\n",
      "Installing collected packages: tf-estimator-nightly, termcolor, tensorboard-plugin-wit, pyasn1, libclang, flatbuffers, wrapt, werkzeug, typing-extensions, tensorflow-io-gcs-filesystem, tensorboard-data-server, rsa, pyasn1-modules, protobuf, opt-einsum, oauthlib, keras-preprocessing, h5py, grpcio, google-pasta, gast, cachetools, astunparse, absl-py, requests-oauthlib, markdown, google-auth, google-auth-oauthlib, tensorboard, tensorflow\n",
      "Successfully installed absl-py-1.0.0 astunparse-1.6.3 cachetools-5.0.0 flatbuffers-2.0 gast-0.5.3 google-auth-2.6.6 google-auth-oauthlib-0.4.6 google-pasta-0.2.0 grpcio-1.44.0 h5py-3.6.0 keras-preprocessing-1.1.2 libclang-14.0.1 markdown-3.3.6 oauthlib-3.2.0 opt-einsum-3.3.0 protobuf-3.20.1 pyasn1-0.4.8 pyasn1-modules-0.2.8 requests-oauthlib-1.3.1 rsa-4.8 tensorboard-2.8.0 tensorboard-data-server-0.6.1 tensorboard-plugin-wit-1.8.1 tensorflow-2.8.0 tensorflow-io-gcs-filesystem-0.25.0 termcolor-1.1.0 tf-estimator-nightly-2.8.0.dev2021122109 typing-extensions-4.2.0 werkzeug-2.1.2 wrapt-1.14.0\n"
     ]
    }
   ],
   "source": [
    "#package installations\n",
    "! pip install yfinance\n",
    "! pip install  matplotlib\n",
    "! pip install sklearn\n",
    "! pip install keras\n",
    "! pip install tensorflow"
   ]
  },
  {
   "cell_type": "code",
   "execution_count": 138,
   "id": "fcbeebcd-d7c6-4650-ae40-f3bc6d71b76e",
   "metadata": {},
   "outputs": [],
   "source": [
    "#imports\n",
    "import yfinance as yf\n",
    "import matplotlib.pyplot as plt\n",
    "import numpy as np\n",
    "from sklearn.preprocessing import MinMaxScaler\n",
    "from keras.models import Sequential\n",
    "from keras.layers import Dense, LSTM"
   ]
  },
  {
   "cell_type": "code",
   "execution_count": 112,
   "id": "b7542c34-5c3c-4c08-9b7b-0134fbdaef69",
   "metadata": {},
   "outputs": [
    {
     "name": "stdin",
     "output_type": "stream",
     "text": [
      "Enter your ticker:  TSLA\n"
     ]
    }
   ],
   "source": [
    "val = input(\"Enter your ticker: \")#input"
   ]
  },
  {
   "cell_type": "code",
   "execution_count": 113,
   "id": "8a21e273-506d-4487-9ba6-ca7413111537",
   "metadata": {},
   "outputs": [
    {
     "name": "stdout",
     "output_type": "stream",
     "text": [
      "[*********************100%***********************]  1 of 1 completed\n"
     ]
    }
   ],
   "source": [
    "stock_data = yf.download(tickers=val,period='5y',interval='1d')"
   ]
  },
  {
   "cell_type": "code",
   "execution_count": 114,
   "id": "6c28f4e9-3938-4627-9a0c-6dd780d813f4",
   "metadata": {},
   "outputs": [
    {
     "data": {
      "text/html": [
       "<div>\n",
       "<style scoped>\n",
       "    .dataframe tbody tr th:only-of-type {\n",
       "        vertical-align: middle;\n",
       "    }\n",
       "\n",
       "    .dataframe tbody tr th {\n",
       "        vertical-align: top;\n",
       "    }\n",
       "\n",
       "    .dataframe thead th {\n",
       "        text-align: right;\n",
       "    }\n",
       "</style>\n",
       "<table border=\"1\" class=\"dataframe\">\n",
       "  <thead>\n",
       "    <tr style=\"text-align: right;\">\n",
       "      <th></th>\n",
       "      <th>Open</th>\n",
       "      <th>High</th>\n",
       "      <th>Low</th>\n",
       "      <th>Close</th>\n",
       "      <th>Adj Close</th>\n",
       "      <th>Volume</th>\n",
       "    </tr>\n",
       "    <tr>\n",
       "      <th>Date</th>\n",
       "      <th></th>\n",
       "      <th></th>\n",
       "      <th></th>\n",
       "      <th></th>\n",
       "      <th></th>\n",
       "      <th></th>\n",
       "    </tr>\n",
       "  </thead>\n",
       "  <tbody>\n",
       "    <tr>\n",
       "      <th>2017-05-01</th>\n",
       "      <td>62.976002</td>\n",
       "      <td>65.449997</td>\n",
       "      <td>62.962002</td>\n",
       "      <td>64.566002</td>\n",
       "      <td>64.566002</td>\n",
       "      <td>44148000</td>\n",
       "    </tr>\n",
       "    <tr>\n",
       "      <th>2017-05-02</th>\n",
       "      <td>64.800003</td>\n",
       "      <td>65.531998</td>\n",
       "      <td>63.312000</td>\n",
       "      <td>63.778000</td>\n",
       "      <td>63.778000</td>\n",
       "      <td>26914000</td>\n",
       "    </tr>\n",
       "    <tr>\n",
       "      <th>2017-05-03</th>\n",
       "      <td>63.534000</td>\n",
       "      <td>64.306000</td>\n",
       "      <td>62.090000</td>\n",
       "      <td>62.203999</td>\n",
       "      <td>62.203999</td>\n",
       "      <td>35667000</td>\n",
       "    </tr>\n",
       "    <tr>\n",
       "      <th>2017-05-04</th>\n",
       "      <td>61.487999</td>\n",
       "      <td>61.554001</td>\n",
       "      <td>58.152000</td>\n",
       "      <td>59.091999</td>\n",
       "      <td>59.091999</td>\n",
       "      <td>70760000</td>\n",
       "    </tr>\n",
       "    <tr>\n",
       "      <th>2017-05-05</th>\n",
       "      <td>59.599998</td>\n",
       "      <td>61.709999</td>\n",
       "      <td>59.360001</td>\n",
       "      <td>61.669998</td>\n",
       "      <td>61.669998</td>\n",
       "      <td>40886500</td>\n",
       "    </tr>\n",
       "  </tbody>\n",
       "</table>\n",
       "</div>"
      ],
      "text/plain": [
       "                 Open       High        Low      Close  Adj Close    Volume\n",
       "Date                                                                       \n",
       "2017-05-01  62.976002  65.449997  62.962002  64.566002  64.566002  44148000\n",
       "2017-05-02  64.800003  65.531998  63.312000  63.778000  63.778000  26914000\n",
       "2017-05-03  63.534000  64.306000  62.090000  62.203999  62.203999  35667000\n",
       "2017-05-04  61.487999  61.554001  58.152000  59.091999  59.091999  70760000\n",
       "2017-05-05  59.599998  61.709999  59.360001  61.669998  61.669998  40886500"
      ]
     },
     "execution_count": 114,
     "metadata": {},
     "output_type": "execute_result"
    }
   ],
   "source": [
    "stock_data.head()"
   ]
  },
  {
   "cell_type": "code",
   "execution_count": 115,
   "id": "cb3a993c-dc3a-44eb-9830-04b21e8eea2e",
   "metadata": {},
   "outputs": [
    {
     "data": {
      "text/plain": [
       "[<matplotlib.lines.Line2D at 0x268ed02e370>]"
      ]
     },
     "execution_count": 115,
     "metadata": {},
     "output_type": "execute_result"
    },
    {
     "data": {
      "image/png": "[encoded data removed]",
      "text/plain": [
       "<Figure size 432x288 with 1 Axes>"
      ]
     },
     "metadata": {
      "needs_background": "light"
     },
     "output_type": "display_data"
    }
   ],
   "source": [
    "plt.plot(stock_data['Open'])"
   ]
  },
  {
   "cell_type": "code",
   "execution_count": 116,
   "id": "55a53b12-2aa7-4411-add4-88237c016307",
   "metadata": {},
   "outputs": [],
   "source": [
    "normalizer = MinMaxScaler(feature_range=(0,1))\n",
    "stock_data_scaled = normalizer.fit_transform(np.array(stock_data['Open']).reshape(-1,1))"
   ]
  },
  {
   "cell_type": "code",
   "execution_count": 117,
   "id": "729cd294-1664-4230-a58e-f520148c5419",
   "metadata": {},
   "outputs": [
    {
     "data": {
      "text/plain": [
       "1260"
      ]
     },
     "execution_count": 117,
     "metadata": {},
     "output_type": "execute_result"
    }
   ],
   "source": [
    "len(stock_data_scaled)"
   ]
  },
  {
   "cell_type": "code",
   "execution_count": 118,
   "id": "b0f87310-3676-4e33-9e1d-e46110208059",
   "metadata": {},
   "outputs": [
    {
     "data": {
      "text/plain": [
       "378"
      ]
     },
     "execution_count": 118,
     "metadata": {},
     "output_type": "execute_result"
    }
   ],
   "source": [
    "train_size = int(len(stock_data_scaled)*.7)\n",
    "test_size = int(len(stock_data_scaled)*.3)\n",
    "test_size"
   ]
  },
  {
   "cell_type": "code",
   "execution_count": 119,
   "id": "60ca16cd-c665-48af-ab3d-9709f4a01450",
   "metadata": {},
   "outputs": [
    {
     "data": {
      "text/plain": [
       "882"
      ]
     },
     "execution_count": 119,
     "metadata": {},
     "output_type": "execute_result"
    }
   ],
   "source": [
    "train_size"
   ]
  },
  {
   "cell_type": "code",
   "execution_count": 120,
   "id": "c7f798d5-2d5d-4590-9a29-7fee7b38127a",
   "metadata": {},
   "outputs": [],
   "source": [
    "stock_data_train, stock_data_test = stock_data_scaled[0:train_size,:], stock_data_scaled[train_size:len(stock_data_scaled),:1]"
   ]
  },
  {
   "cell_type": "code",
   "execution_count": 121,
   "id": "f53076b5-2b2e-44e6-a129-61904f82dc53",
   "metadata": {},
   "outputs": [],
   "source": [
    "def function(dataset,step):\n",
    "    Xtrain, Ytrain = [], []\n",
    "    for i in range(len(dataset)-step-1):\n",
    "        a = dataset[i:(i+step), 0]\n",
    "        Xtrain.append(a)\n",
    "        Ytrain.append(dataset[i + step, 0])\n",
    "    return np.array(Xtrain), np.array(Ytrain)"
   ]
  },
  {
   "cell_type": "code",
   "execution_count": 122,
   "id": "12259bce-58ae-4e60-b4bd-9c02f8ab8319",
   "metadata": {},
   "outputs": [],
   "source": [
    "time_stamp = 100\n",
    "X_train, y_train = function(stock_data_train,time_stamp)\n",
    "X_test, y_test = function(stock_data_test,time_stamp)"
   ]
  },
  {
   "cell_type": "code",
   "execution_count": 123,
   "id": "ad4714c0-3f09-45bb-a043-34c057b4a04b",
   "metadata": {},
   "outputs": [],
   "source": [
    "X_train = X_train.reshape(X_train.shape[0],X_train.shape[1] , 1)\n",
    "X_test = X_test.reshape(X_test.shape[0],X_test.shape[1] , 1)"
   ]
  },
  {
   "cell_type": "code",
   "execution_count": 124,
   "id": "c747e7f3-f2f1-4f37-815d-4c0ebcc0c6dd",
   "metadata": {},
   "outputs": [
    {
     "name": "stdout",
     "output_type": "stream",
     "text": [
      "Model: \"sequential_2\"\n",
      "_________________________________________________________________\n",
      " Layer (type)                Output Shape              Param #   \n",
      "=================================================================\n",
      " lstm_6 (LSTM)               (None, 100, 50)           10400     \n",
      "                                                                 \n",
      " lstm_7 (LSTM)               (None, 100, 50)           20200     \n",
      "                                                                 \n",
      " lstm_8 (LSTM)               (None, 50)                20200     \n",
      "                                                                 \n",
      " dense_2 (Dense)             (None, 1)                 51        \n",
      "                                                                 \n",
      "=================================================================\n",
      "Total params: 50,851\n",
      "Trainable params: 50,851\n",
      "Non-trainable params: 0\n",
      "_________________________________________________________________\n"
     ]
    }
   ],
   "source": [
    "#Creating LSTM model using keras\n",
    "model = Sequential()\n",
    "model.add(LSTM(units=50,return_sequences=True,input_shape=(X_train.shape[1],1)))\n",
    "model.add(LSTM(units=50,return_sequences=True))\n",
    "model.add(LSTM(units=50))\n",
    "model.add(Dense(units=1,activation='linear'))\n",
    "model.summary()"
   ]
  },
  {
   "cell_type": "code",
   "execution_count": 125,
   "id": "e5210edf-a10e-4c18-a9be-32b5ca77e985",
   "metadata": {},
   "outputs": [
    {
     "name": "stdout",
     "output_type": "stream",
     "text": [
      "Epoch 1/100\n",
      "13/13 [==============================] - 5s 151ms/step - loss: 0.0040 - val_loss: 0.0735\n",
      "Epoch 2/100\n",
      "13/13 [==============================] - 1s 89ms/step - loss: 6.8198e-04 - val_loss: 0.0060\n",
      "Epoch 3/100\n",
      "13/13 [==============================] - 1s 88ms/step - loss: 4.0643e-04 - val_loss: 0.0053\n",
      "Epoch 4/100\n",
      "13/13 [==============================] - 1s 88ms/step - loss: 2.9652e-04 - val_loss: 0.0053\n",
      "Epoch 5/100\n",
      "13/13 [==============================] - 1s 90ms/step - loss: 2.6234e-04 - val_loss: 0.0063\n",
      "Epoch 6/100\n",
      "13/13 [==============================] - 1s 88ms/step - loss: 2.6381e-04 - val_loss: 0.0055\n",
      "Epoch 7/100\n",
      "13/13 [==============================] - 1s 91ms/step - loss: 2.8042e-04 - val_loss: 0.0081\n",
      "Epoch 8/100\n",
      "13/13 [==============================] - 1s 87ms/step - loss: 2.6657e-04 - val_loss: 0.0124\n",
      "Epoch 9/100\n",
      "13/13 [==============================] - 1s 87ms/step - loss: 2.3190e-04 - val_loss: 0.0060\n",
      "Epoch 10/100\n",
      "13/13 [==============================] - 1s 87ms/step - loss: 2.5492e-04 - val_loss: 0.0128\n",
      "Epoch 11/100\n",
      "13/13 [==============================] - 1s 87ms/step - loss: 2.3038e-04 - val_loss: 0.0185\n",
      "Epoch 12/100\n",
      "13/13 [==============================] - 1s 87ms/step - loss: 2.7300e-04 - val_loss: 0.0099\n",
      "Epoch 13/100\n",
      "13/13 [==============================] - 1s 86ms/step - loss: 2.5110e-04 - val_loss: 0.0137\n",
      "Epoch 14/100\n",
      "13/13 [==============================] - 1s 86ms/step - loss: 2.2213e-04 - val_loss: 0.0142\n",
      "Epoch 15/100\n",
      "13/13 [==============================] - 1s 86ms/step - loss: 2.2082e-04 - val_loss: 0.0116\n",
      "Epoch 16/100\n",
      "13/13 [==============================] - 1s 87ms/step - loss: 2.4361e-04 - val_loss: 0.0232\n",
      "Epoch 17/100\n",
      "13/13 [==============================] - 1s 86ms/step - loss: 2.3082e-04 - val_loss: 0.0146\n",
      "Epoch 18/100\n",
      "13/13 [==============================] - 1s 86ms/step - loss: 2.2919e-04 - val_loss: 0.0166\n",
      "Epoch 19/100\n",
      "13/13 [==============================] - 1s 87ms/step - loss: 2.3004e-04 - val_loss: 0.0107\n",
      "Epoch 20/100\n",
      "13/13 [==============================] - 1s 87ms/step - loss: 2.8656e-04 - val_loss: 0.0196\n",
      "Epoch 21/100\n",
      "13/13 [==============================] - 1s 87ms/step - loss: 2.4797e-04 - val_loss: 0.0154\n",
      "Epoch 22/100\n",
      "13/13 [==============================] - 1s 87ms/step - loss: 2.1717e-04 - val_loss: 0.0169\n",
      "Epoch 23/100\n",
      "13/13 [==============================] - 1s 86ms/step - loss: 2.1399e-04 - val_loss: 0.0125\n",
      "Epoch 24/100\n",
      "13/13 [==============================] - 1s 86ms/step - loss: 1.9540e-04 - val_loss: 0.0157\n",
      "Epoch 25/100\n",
      "13/13 [==============================] - 1s 86ms/step - loss: 1.9346e-04 - val_loss: 0.0204\n",
      "Epoch 26/100\n",
      "13/13 [==============================] - 1s 85ms/step - loss: 1.9291e-04 - val_loss: 0.0116\n",
      "Epoch 27/100\n",
      "13/13 [==============================] - 1s 87ms/step - loss: 1.9609e-04 - val_loss: 0.0100\n",
      "Epoch 28/100\n",
      "13/13 [==============================] - 1s 86ms/step - loss: 1.9795e-04 - val_loss: 0.0294\n",
      "Epoch 29/100\n",
      "13/13 [==============================] - 1s 85ms/step - loss: 2.0307e-04 - val_loss: 0.0124\n",
      "Epoch 30/100\n",
      "13/13 [==============================] - 1s 86ms/step - loss: 1.8876e-04 - val_loss: 0.0129\n",
      "Epoch 31/100\n",
      "13/13 [==============================] - 1s 87ms/step - loss: 1.8374e-04 - val_loss: 0.0103\n",
      "Epoch 32/100\n",
      "13/13 [==============================] - 1s 86ms/step - loss: 1.7649e-04 - val_loss: 0.0154\n",
      "Epoch 33/100\n",
      "13/13 [==============================] - 1s 85ms/step - loss: 1.8017e-04 - val_loss: 0.0205\n",
      "Epoch 34/100\n",
      "13/13 [==============================] - 1s 86ms/step - loss: 1.6373e-04 - val_loss: 0.0206\n",
      "Epoch 35/100\n",
      "13/13 [==============================] - 1s 86ms/step - loss: 1.7041e-04 - val_loss: 0.0179\n",
      "Epoch 36/100\n",
      "13/13 [==============================] - 1s 86ms/step - loss: 1.5973e-04 - val_loss: 0.0109\n",
      "Epoch 37/100\n",
      "13/13 [==============================] - 1s 87ms/step - loss: 1.6426e-04 - val_loss: 0.0062\n",
      "Epoch 38/100\n",
      "13/13 [==============================] - 1s 86ms/step - loss: 2.2831e-04 - val_loss: 0.0200\n",
      "Epoch 39/100\n",
      "13/13 [==============================] - 1s 87ms/step - loss: 1.8220e-04 - val_loss: 0.0150\n",
      "Epoch 40/100\n",
      "13/13 [==============================] - 1s 86ms/step - loss: 1.5838e-04 - val_loss: 0.0195\n",
      "Epoch 41/100\n",
      "13/13 [==============================] - 1s 86ms/step - loss: 1.6551e-04 - val_loss: 0.0116\n",
      "Epoch 42/100\n",
      "13/13 [==============================] - 1s 87ms/step - loss: 1.7269e-04 - val_loss: 0.0139\n",
      "Epoch 43/100\n",
      "13/13 [==============================] - 1s 86ms/step - loss: 1.6614e-04 - val_loss: 0.0071\n",
      "Epoch 44/100\n",
      "13/13 [==============================] - 1s 87ms/step - loss: 1.6053e-04 - val_loss: 0.0151\n",
      "Epoch 45/100\n",
      "13/13 [==============================] - 1s 87ms/step - loss: 1.4639e-04 - val_loss: 0.0191\n",
      "Epoch 46/100\n",
      "13/13 [==============================] - 1s 86ms/step - loss: 1.4042e-04 - val_loss: 0.0103\n",
      "Epoch 47/100\n",
      "13/13 [==============================] - 1s 88ms/step - loss: 1.6648e-04 - val_loss: 0.0088\n",
      "Epoch 48/100\n",
      "13/13 [==============================] - 1s 87ms/step - loss: 1.4768e-04 - val_loss: 0.0169\n",
      "Epoch 49/100\n",
      "13/13 [==============================] - 1s 88ms/step - loss: 1.3435e-04 - val_loss: 0.0102\n",
      "Epoch 50/100\n",
      "13/13 [==============================] - 1s 86ms/step - loss: 1.4269e-04 - val_loss: 0.0146\n",
      "Epoch 51/100\n",
      "13/13 [==============================] - 1s 87ms/step - loss: 1.7560e-04 - val_loss: 0.0194\n",
      "Epoch 52/100\n",
      "13/13 [==============================] - 1s 87ms/step - loss: 1.5603e-04 - val_loss: 0.0166\n",
      "Epoch 53/100\n",
      "13/13 [==============================] - 1s 87ms/step - loss: 1.3270e-04 - val_loss: 0.0161\n",
      "Epoch 54/100\n",
      "13/13 [==============================] - 1s 87ms/step - loss: 1.3300e-04 - val_loss: 0.0170\n",
      "Epoch 55/100\n",
      "13/13 [==============================] - 1s 87ms/step - loss: 1.5340e-04 - val_loss: 0.0104\n",
      "Epoch 56/100\n",
      "13/13 [==============================] - 1s 87ms/step - loss: 1.3264e-04 - val_loss: 0.0120\n",
      "Epoch 57/100\n",
      "13/13 [==============================] - 1s 86ms/step - loss: 1.3105e-04 - val_loss: 0.0121\n",
      "Epoch 58/100\n",
      "13/13 [==============================] - 1s 87ms/step - loss: 1.5504e-04 - val_loss: 0.0098\n",
      "Epoch 59/100\n",
      "13/13 [==============================] - 1s 88ms/step - loss: 1.3240e-04 - val_loss: 0.0140\n",
      "Epoch 60/100\n",
      "13/13 [==============================] - 1s 87ms/step - loss: 1.2003e-04 - val_loss: 0.0191\n",
      "Epoch 61/100\n",
      "13/13 [==============================] - 1s 88ms/step - loss: 1.4753e-04 - val_loss: 0.0141\n",
      "Epoch 62/100\n",
      "13/13 [==============================] - 1s 87ms/step - loss: 1.2995e-04 - val_loss: 0.0139\n",
      "Epoch 63/100\n",
      "13/13 [==============================] - 1s 87ms/step - loss: 1.5501e-04 - val_loss: 0.0123\n",
      "Epoch 64/100\n",
      "13/13 [==============================] - 1s 87ms/step - loss: 1.3975e-04 - val_loss: 0.0069\n",
      "Epoch 65/100\n",
      "13/13 [==============================] - 1s 86ms/step - loss: 1.4870e-04 - val_loss: 0.0092\n",
      "Epoch 66/100\n",
      "13/13 [==============================] - 1s 86ms/step - loss: 1.4007e-04 - val_loss: 0.0166\n",
      "Epoch 67/100\n",
      "13/13 [==============================] - 1s 86ms/step - loss: 1.3950e-04 - val_loss: 0.0192\n",
      "Epoch 68/100\n",
      "13/13 [==============================] - 1s 88ms/step - loss: 1.3748e-04 - val_loss: 0.0175\n",
      "Epoch 69/100\n",
      "13/13 [==============================] - 1s 86ms/step - loss: 1.2251e-04 - val_loss: 0.0105\n",
      "Epoch 70/100\n",
      "13/13 [==============================] - 1s 88ms/step - loss: 1.1695e-04 - val_loss: 0.0146\n",
      "Epoch 71/100\n",
      "13/13 [==============================] - 1s 87ms/step - loss: 1.1556e-04 - val_loss: 0.0159\n",
      "Epoch 72/100\n",
      "13/13 [==============================] - 1s 87ms/step - loss: 1.2586e-04 - val_loss: 0.0114\n",
      "Epoch 73/100\n",
      "13/13 [==============================] - 1s 87ms/step - loss: 1.1230e-04 - val_loss: 0.0052\n",
      "Epoch 74/100\n",
      "13/13 [==============================] - 1s 87ms/step - loss: 1.5085e-04 - val_loss: 0.0138\n",
      "Epoch 75/100\n",
      "13/13 [==============================] - 1s 87ms/step - loss: 1.1628e-04 - val_loss: 0.0131\n",
      "Epoch 76/100\n",
      "13/13 [==============================] - 1s 87ms/step - loss: 1.2150e-04 - val_loss: 0.0100\n",
      "Epoch 77/100\n",
      "13/13 [==============================] - 1s 86ms/step - loss: 1.0860e-04 - val_loss: 0.0222\n",
      "Epoch 78/100\n",
      "13/13 [==============================] - 1s 87ms/step - loss: 1.5478e-04 - val_loss: 0.0121\n",
      "Epoch 79/100\n",
      "13/13 [==============================] - 1s 89ms/step - loss: 1.2036e-04 - val_loss: 0.0084\n",
      "Epoch 80/100\n",
      "13/13 [==============================] - 1s 87ms/step - loss: 1.3120e-04 - val_loss: 0.0113\n",
      "Epoch 81/100\n",
      "13/13 [==============================] - 1s 86ms/step - loss: 1.1575e-04 - val_loss: 0.0179\n",
      "Epoch 82/100\n",
      "13/13 [==============================] - 1s 86ms/step - loss: 1.1733e-04 - val_loss: 0.0172\n",
      "Epoch 83/100\n",
      "13/13 [==============================] - 1s 86ms/step - loss: 1.2469e-04 - val_loss: 0.0185\n",
      "Epoch 84/100\n",
      "13/13 [==============================] - 1s 87ms/step - loss: 1.4844e-04 - val_loss: 0.0066\n",
      "Epoch 85/100\n",
      "13/13 [==============================] - 1s 89ms/step - loss: 1.2977e-04 - val_loss: 0.0151\n",
      "Epoch 86/100\n",
      "13/13 [==============================] - 1s 89ms/step - loss: 2.0799e-04 - val_loss: 0.0122\n",
      "Epoch 87/100\n",
      "13/13 [==============================] - 1s 88ms/step - loss: 1.1887e-04 - val_loss: 0.0085\n",
      "Epoch 88/100\n",
      "13/13 [==============================] - 1s 87ms/step - loss: 1.1463e-04 - val_loss: 0.0120\n",
      "Epoch 89/100\n",
      "13/13 [==============================] - 1s 87ms/step - loss: 1.0910e-04 - val_loss: 0.0092\n",
      "Epoch 90/100\n",
      "13/13 [==============================] - 1s 87ms/step - loss: 1.1771e-04 - val_loss: 0.0133\n",
      "Epoch 91/100\n",
      "13/13 [==============================] - 1s 86ms/step - loss: 1.0604e-04 - val_loss: 0.0135\n",
      "Epoch 92/100\n",
      "13/13 [==============================] - 1s 87ms/step - loss: 1.0111e-04 - val_loss: 0.0127\n",
      "Epoch 93/100\n",
      "13/13 [==============================] - 1s 86ms/step - loss: 9.8753e-05 - val_loss: 0.0095\n",
      "Epoch 94/100\n",
      "13/13 [==============================] - 1s 87ms/step - loss: 9.5806e-05 - val_loss: 0.0154\n",
      "Epoch 95/100\n",
      "13/13 [==============================] - 1s 86ms/step - loss: 1.0340e-04 - val_loss: 0.0182\n",
      "Epoch 96/100\n",
      "13/13 [==============================] - 1s 88ms/step - loss: 1.0331e-04 - val_loss: 0.0083\n",
      "Epoch 97/100\n",
      "13/13 [==============================] - 1s 86ms/step - loss: 1.0047e-04 - val_loss: 0.0110\n",
      "Epoch 98/100\n",
      "13/13 [==============================] - 1s 87ms/step - loss: 9.4270e-05 - val_loss: 0.0149\n",
      "Epoch 99/100\n",
      "13/13 [==============================] - 1s 87ms/step - loss: 1.0571e-04 - val_loss: 0.0100\n",
      "Epoch 100/100\n",
      "13/13 [==============================] - 1s 87ms/step - loss: 9.5105e-05 - val_loss: 0.0110\n"
     ]
    },
    {
     "data": {
      "text/plain": [
       "<keras.callbacks.History at 0x268ef1a3670>"
      ]
     },
     "execution_count": 125,
     "metadata": {},
     "output_type": "execute_result"
    }
   ],
   "source": [
    "model.compile(loss='mean_squared_error',optimizer='adam')\n",
    "model.fit(X_train,y_train,validation_data=(X_test,y_test),epochs=100,batch_size=64)"
   ]
  },
  {
   "cell_type": "code",
   "execution_count": 126,
   "id": "36844cd4-d452-416c-88c4-8d4c6a7e594e",
   "metadata": {},
   "outputs": [
    {
     "data": {
      "text/plain": [
       "[<matplotlib.lines.Line2D at 0x268f4b32cd0>]"
      ]
     },
     "execution_count": 126,
     "metadata": {},
     "output_type": "execute_result"
    },
    {
     "data": {
      "image/png": "[encoded data removed]",
      "text/plain": [
       "<Figure size 432x288 with 1 Axes>"
      ]
     },
     "metadata": {
      "needs_background": "light"
     },
     "output_type": "display_data"
    }
   ],
   "source": [
    "loss = model.history.history['loss']\n",
    "plt.plot(loss)"
   ]
  },
  {
   "cell_type": "code",
   "execution_count": 127,
   "id": "843bd5db-2bc1-4c13-a7a5-2dfff52fd445",
   "metadata": {},
   "outputs": [],
   "source": [
    "train_predict = model.predict(X_train)\n",
    "test_predict = model.predict(X_test)\n",
    "train_predict = normalizer.inverse_transform(train_predict)\n",
    "test_predict = normalizer.inverse_transform(test_predict)"
   ]
  },
  {
   "cell_type": "code",
   "execution_count": 128,
   "id": "2461cb4e-8343-4107-bcf6-0c6700c1c3ec",
   "metadata": {},
   "outputs": [
    {
     "data": {
      "text/plain": [
       "[<matplotlib.lines.Line2D at 0x268f5ed1a00>]"
      ]
     },
     "execution_count": 128,
     "metadata": {},
     "output_type": "execute_result"
    },
    {
     "data": {
      "image/png": "[encoded data removed]",
      "text/plain": [
       "<Figure size 432x288 with 1 Axes>"
      ]
     },
     "metadata": {
      "needs_background": "light"
     },
     "output_type": "display_data"
    }
   ],
   "source": [
    "plt.plot(normalizer.inverse_transform(stock_data_scaled))\n",
    "plt.plot(train_predict)\n",
    "plt.plot(test_predict)"
   ]
  },
  {
   "cell_type": "code",
   "execution_count": 129,
   "id": "56f2fa15-4e2d-4a7b-a8ae-40d26ab3a6ec",
   "metadata": {},
   "outputs": [
    {
     "data": {
      "text/plain": [
       "[<matplotlib.lines.Line2D at 0x268f5f430a0>]"
      ]
     },
     "execution_count": 129,
     "metadata": {},
     "output_type": "execute_result"
    },
    {
     "data": {
      "image/png": "[encoded data removed]",
      "text/plain": [
       "<Figure size 432x288 with 1 Axes>"
      ]
     },
     "metadata": {
      "needs_background": "light"
     },
     "output_type": "display_data"
    }
   ],
   "source": [
    "test = np.vstack((train_predict,test_predict))\n",
    "plt.plot(normalizer.inverse_transform(stock_data_scaled))\n",
    "plt.plot(test)"
   ]
  },
  {
   "cell_type": "code",
   "execution_count": 130,
   "id": "8350e367-47d6-4013-8618-99d06e810064",
   "metadata": {},
   "outputs": [],
   "source": [
    "#finished training and testing the model and looking here the results are decently accurate so time to try and predict future prices"
   ]
  },
  {
   "cell_type": "code",
   "execution_count": 131,
   "id": "29968e22-015e-471f-ba83-d1dd70f3a0e9",
   "metadata": {},
   "outputs": [],
   "source": [
    "last_hundred_days = stock_data_test[277:]\n",
    "last_hundred_days = last_hundred_days.reshape(1,-1)\n",
    "days = list(last_hundred_days)\n",
    "days = days[0].tolist()"
   ]
  },
  {
   "cell_type": "code",
   "execution_count": 132,
   "id": "f6221b26-034b-414d-b5fd-7602021e9361",
   "metadata": {},
   "outputs": [
    {
     "name": "stdout",
     "output_type": "stream",
     "text": [
      "[[0.6326507329940796], [0.6124476790428162], [0.591933012008667], [0.5747523903846741], [0.5617610216140747], [0.5527207851409912], [0.5470168590545654], [0.5439368486404419], [0.5427765250205994], [0.5428805947303772], [0.5436629056930542], [0.5446178913116455], [0.5453320741653442], [0.5454905033111572], [0.5448797345161438], [0.5433857440948486], [0.5409854054450989], [0.5377328991889954], [0.5337418913841248], [0.5291673541069031], [0.5241849422454834], [0.5189748406410217], [0.5137069225311279], [0.5085306763648987], [0.5035684704780579], [0.4989125430583954], [0.4946247637271881], [0.49073830246925354], [0.4872616231441498], [0.48418164253234863]]\n"
     ]
    }
   ],
   "source": [
    "lst_output=[]\n",
    "n_steps=100\n",
    "days_predicted_so_far=0\n",
    "while(days_predicted_so_far<30):\n",
    "    \n",
    "    if(len(days)>100):\n",
    "        last_hundred_days = np.array(days[1:])\n",
    "        last_hundred_days=last_hundred_days.reshape(1,-1)\n",
    "        last_hundred_days = last_hundred_days.reshape((1, n_steps, 1))\n",
    "        yhat = model.predict(last_hundred_days, verbose=0)\n",
    "        days.extend(yhat[0].tolist())\n",
    "        days = days[1:]\n",
    "        lst_output.extend(yhat.tolist())\n",
    "        days_predicted_so_far=days_predicted_so_far+1\n",
    "    else:\n",
    "        last_hundred_days = last_hundred_days.reshape((1, n_steps,1))\n",
    "        yhat = model.predict(last_hundred_days, verbose=0)\n",
    "        days.extend(yhat[0].tolist())\n",
    "        lst_output.extend(yhat.tolist())\n",
    "        days_predicted_so_far=days_predicted_so_far+1\n",
    "    \n",
    "\n",
    "print(lst_output)"
   ]
  },
  {
   "cell_type": "code",
   "execution_count": 133,
   "id": "c94cd79b-0a65-4da5-801d-7a0b878d190e",
   "metadata": {},
   "outputs": [
    {
     "data": {
      "text/plain": [
       "[<matplotlib.lines.Line2D at 0x268f600ea90>]"
      ]
     },
     "execution_count": 133,
     "metadata": {},
     "output_type": "execute_result"
    },
    {
     "data": {
      "image/png": "[encoded data removed]",
      "text/plain": [
       "<Figure size 432x288 with 1 Axes>"
      ]
     },
     "metadata": {
      "needs_background": "light"
     },
     "output_type": "display_data"
    }
   ],
   "source": [
    "plot_new=np.arange(1,101)\n",
    "plot_pred=np.arange(101,131)\n",
    "plt.plot(plot_new, normalizer.inverse_transform(stock_data_scaled[1160:]))\n",
    "plt.plot(plot_pred, normalizer.inverse_transform(lst_output))"
   ]
  },
  {
   "cell_type": "code",
   "execution_count": 134,
   "id": "73cb472d-1382-47c3-8286-396ba987a9aa",
   "metadata": {},
   "outputs": [
    {
     "data": {
      "text/plain": [
       "[<matplotlib.lines.Line2D at 0x268f60225e0>]"
      ]
     },
     "execution_count": 134,
     "metadata": {},
     "output_type": "execute_result"
    },
    {
     "data": {
      "image/png": "[encoded data removed]",
      "text/plain": [
       "<Figure size 432x288 with 1 Axes>"
      ]
     },
     "metadata": {
      "needs_background": "light"
     },
     "output_type": "display_data"
    }
   ],
   "source": [
    "ds_new = stock_data_scaled.tolist()\n",
    "ds_new.extend(lst_output)\n",
    "plt.plot(ds_new[1200:])"
   ]
  },
  {
   "cell_type": "code",
   "execution_count": 137,
   "id": "84d25d6d-5a8d-4e47-a565-17bf3734335a",
   "metadata": {},
   "outputs": [
    {
     "data": {
      "text/plain": [
       "<matplotlib.legend.Legend at 0x268f61716d0>"
      ]
     },
     "execution_count": 137,
     "metadata": {},
     "output_type": "execute_result"
    },
    {
     "data": {
      "image/png": "[encoded data removed]",
      "text/plain": [
       "<Figure size 432x288 with 1 Axes>"
      ]
     },
     "metadata": {
      "needs_background": "light"
     },
     "output_type": "display_data"
    }
   ],
   "source": [
    "final_graph = normalizer.inverse_transform(ds_new).tolist()\n",
    "#Plotting final results with predicted value after 30 Days\n",
    "plt.plot(final_graph,)\n",
    "plt.ylabel(\"Price\")\n",
    "plt.xlabel(\"Time\")\n",
    "plt.title(val + \" of next month open\")\n",
    "plt.axhline(y=final_graph[len(final_graph)-1], color = 'red', linestyle = ':', label = 'NEXT 30D: {0}'.format(round(float(*final_graph[len(final_graph)-1]),2)))\n",
    "plt.legend()"
   ]
  }
 ],
 "metadata": {
  "kernelspec": {
   "display_name": "Python 3 (ipykernel)",
   "language": "python",
   "name": "python3"
  },
  "language_info": {
   "codemirror_mode": {
    "name": "ipython",
    "version": 3
   },
   "file_extension": ".py",
   "mimetype": "text/x-python",
   "name": "python",
   "nbconvert_exporter": "python",
   "pygments_lexer": "ipython3",
   "version": "3.8.13"
  }
 },
 "nbformat": 4,
 "nbformat_minor": 5
}
